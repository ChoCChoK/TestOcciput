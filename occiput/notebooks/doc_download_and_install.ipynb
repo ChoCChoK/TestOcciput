{
 "cells": [
  {
   "cell_type": "markdown",
   "metadata": {},
   "source": [
    "# Download and install occiput"
   ]
  },
  {
   "cell_type": "markdown",
   "metadata": {},
   "source": [
    "The source code of Occiput is stored in a public Github repository: https://github.com/spedemon/occiput. \n"
   ]
  },
  {
   "cell_type": "markdown",
   "metadata": {},
   "source": [
    "#### Install dependencies\n",
    "- CUDA: https://developer.nvidia.com/cuda-downloads; follow installation instructions\n",
    "- NiftyRec: http://niftyrec.scienceontheweb.net; follow installation instructions\n",
    "- NiftyPy: pip install niftypy\n",
    "- PyInterfile:  pip install interfile\n",
    "- PyListmode32:  pip install listmode32\n",
    "\n",
    "#### Install occiput \n",
    "- Download or clone from Github: https://github.com/spedemon/occiput \n",
    "- Install: cd occiput; python setup.py build install"
   ]
  },
  {
   "cell_type": "markdown",
   "metadata": {},
   "source": [
    "### Siemens Biograph mMR interface\n",
    "\n",
    "The interface to the Siemens Biograph mMR is implemented in a Python module (**Occiput_Interface_Biograph_mMR**) that has not been made publically available due to the confidential information that it contains. The code is stored in a GIT bare repository located in the Martinos Center computing cluster in  **/usr/pubsw/packages/occiput/source_code/repository/Occiput_Interface_Biograph_mMR/**. \n",
    "\n",
    "To install the module, first create a local copy of the source code by cloning the bare repository, then install using setuptools: \n",
    "\n",
    "- git clone /usr/pubsw/packages/occiput/source_code/repository/Occiput_Interface_Biograph_mMR/\n",
    "- cd Occiput_Interface_Biograph_mMR\n",
    "- python setup.py build install"
   ]
  },
  {
   "cell_type": "markdown",
   "metadata": {},
   "source": []
  }
 ],
 "metadata": {
  "kernelspec": {
   "display_name": "Python 2",
   "language": "python",
   "name": "python2"
  },
  "language_info": {
   "codemirror_mode": {
    "name": "ipython",
    "version": 2
   },
   "file_extension": ".py",
   "mimetype": "text/x-python",
   "name": "python",
   "nbconvert_exporter": "python",
   "pygments_lexer": "ipython2",
   "version": "2.7.11"
  }
 },
 "nbformat": 4,
 "nbformat_minor": 2
}
