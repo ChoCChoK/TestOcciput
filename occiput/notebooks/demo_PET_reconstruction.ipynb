{
 "cells": [
  {
   "cell_type": "markdown",
   "metadata": {},
   "source": [
    "## Basic PET reconstruction example"
   ]
  },
  {
   "cell_type": "code",
   "execution_count": 1,
   "metadata": {
    "collapsed": false
   },
   "outputs": [
    {
     "name": "stdout",
     "output_type": "stream",
     "text": [
      "Populating the interactive namespace from numpy and matplotlib\n"
     ]
    }
   ],
   "source": [
    "import occiput \n",
    "import numpy\n",
    "%pylab inline"
   ]
  },
  {
   "cell_type": "markdown",
   "metadata": {},
   "source": [
    "### 1 - Define the characteristics of the generic PET scanner"
   ]
  },
  {
   "cell_type": "code",
   "execution_count": 2,
   "metadata": {
    "collapsed": false
   },
   "outputs": [
    {
     "data": {
      "image/svg+xml": [
       "<svg baseProfile=\"full\" height=\"100%\" version=\"1.1\" viewBox=\"0,0,100,100\" width=\"100%\" xmlns=\"http://www.w3.org/2000/svg\" xmlns:ev=\"http://www.w3.org/2001/xml-events\" xmlns:xlink=\"http://www.w3.org/1999/xlink\"><defs /><rect fill=\"grey\" fill-opacity=\"0.02\" height=\"40\" rx=\"0.5\" ry=\"0.5\" stroke=\"grey\" stroke-opacity=\"0.02\" stroke-width=\"0.3\" width=\"40\" x=\"30\" y=\"30\" /><circle cx=\"50\" cy=\"50\" fill=\"none\" r=\"30\" stroke=\"grey\" stroke-dasharray=\"0.5 0.5\" stroke-width=\"0.1\" /><circle cx=\"50\" cy=\"50\" fill=\"grey\" fill-opacity=\"0.1\" r=\"0.5\" stroke=\"grey\" stroke-width=\"0.1\" /><line stroke=\"grey\" stroke-width=\"0.1\" x1=\"49\" x2=\"51\" y1=\"50\" y2=\"50\" /><line stroke=\"grey\" stroke-width=\"0.1\" x1=\"50\" x2=\"50\" y1=\"49\" y2=\"51\" /></svg>"
      ],
      "text/html": [
       "<table border=\"1\" cellpadding=\"3\" cellspacing=\"0\"  style=\"border:1px solid black;border-collapse:collapse;\"><tr><td  style=\"background-color:LightGray;\"><b>N_axial</b></td><td  style=\"background-color:AliceBlue;\">120</td></tr><tr><td  style=\"background-color:LightGray;\"><b>N_azimuthal</b></td><td  style=\"background-color:Ivory;\">1</td></tr><tr><td  style=\"background-color:LightGray;\"><b>Size_u</b></td><td  style=\"background-color:AliceBlue;\">300.000</td></tr><tr><td  style=\"background-color:LightGray;\"><b>Size_v</b></td><td  style=\"background-color:Ivory;\">300.000</td></tr><tr><td  style=\"background-color:LightGray;\"><b>N_u</b></td><td  style=\"background-color:AliceBlue;\">128</td></tr><tr><td  style=\"background-color:LightGray;\"><b>N_v</b></td><td  style=\"background-color:Ivory;\">128</td></tr><tr><td  style=\"background-color:LightGray;\"><b>Angles_azimuthal&nbsp[deg]</b></td><td  style=\"background-color:AliceBlue;\">0.0000&nbsp</td></tr><tr><td  style=\"background-color:LightGray;\"><b>Angles_axial&nbsp[deg]</b></td><td  style=\"background-color:Ivory;\">0.0&nbsp85.9436692696&nbsp&nbsp...&nbsp&nbsp10141.3529738&nbsp&nbsp&nbsp10227.2966431</td></tr></table>"
      ],
      "text/plain": [
       "PET Binning: \n",
       " - N_axial_bins:             120 \n",
       " - N_azimuthal_bins:         1 \n",
       " - Size_u:                   300.000000 \n",
       " - Size_v:                   300.000000 \n",
       " - N_u:                      128 \n",
       " - N_v:                      128 \n",
       " - Angles axial:             0.000 1.500 3.000 4.500 6.000 7.500 9.000 10.500 12.000 13.500 15.000 16.500 18.000 19.500 21.000 22.500 24.000 25.500 27.000 28.500 30.000 31.500 33.000 34.500 36.000 37.500 39.000 40.500 42.000 43.500 45.000 46.500 48.000 49.500 51.000 52.500 54.000 55.500 57.000 58.500 60.000 61.500 63.000 64.500 66.000 67.500 69.000 70.500 72.000 73.500 75.000 76.500 78.000 79.500 81.000 82.500 84.000 85.500 87.000 88.500 90.000 91.500 93.000 94.500 96.000 97.500 99.000 100.500 102.000 103.500 105.000 106.500 108.000 109.500 111.000 112.500 114.000 115.500 117.000 118.500 120.000 121.500 123.000 124.500 126.000 127.500 129.000 130.500 132.000 133.500 135.000 136.500 138.000 139.500 141.000 142.500 144.000 145.500 147.000 148.500 150.000 151.500 153.000 154.500 156.000 157.500 159.000 160.500 162.000 163.500 165.000 166.500 168.000 169.500 171.000 172.500 174.000 175.500 177.000 178.500  \n",
       " - Angles azimuthal:         0.000  "
      ]
     },
     "execution_count": 2,
     "metadata": {},
     "output_type": "execute_result"
    }
   ],
   "source": [
    "pet = occiput.Reconstruction.PET.PET_Static_Scan() \n",
    "pet.set_scanner(\"Generic\") \n",
    "pet.binning.N_axial     = 120\n",
    "pet.binning.N_azimuthal = 1 \n",
    "pet.binning.size_u      = 300.0\n",
    "pet.binning.size_v      = 300.0\n",
    "pet.binning.N_u         = 128\n",
    "pet.binning.N_v         = 128\n",
    "pet.binning.angles_axial = linspace(0,180.0-180.0/120,120)\n",
    "pet.binning.angles_azimuthal = int32([0]) \n",
    "pet.binning"
   ]
  },
  {
   "cell_type": "markdown",
   "metadata": {
    "collapsed": false
   },
   "source": [
    "### 2- Create a phantom image"
   ]
  },
  {
   "cell_type": "code",
   "execution_count": 3,
   "metadata": {
    "collapsed": false
   },
   "outputs": [],
   "source": [
    "phantom = occiput.DataSources.Synthetic.Shapes.uniform_spheres_ring([128,128,128],inner_value=1000.0) "
   ]
  },
  {
   "cell_type": "markdown",
   "metadata": {},
   "source": [
    "### 3- Simulate acquisition"
   ]
  },
  {
   "cell_type": "code",
   "execution_count": 7,
   "metadata": {
    "collapsed": false
   },
   "outputs": [],
   "source": [
    "prompts = pet.project_activity(phantom, unit=\"Bq/mm3\") \n",
    "prompts.data = numpy.random.poisson(prompts.data) \n",
    "\n",
    "pet.set_prompts(prompts)\n",
    "pet.set_sensitivity(ones(prompts.data.shape))"
   ]
  },
  {
   "cell_type": "code",
   "execution_count": 8,
   "metadata": {
    "collapsed": false
   },
   "outputs": [
    {
     "data": {
      "text/plain": [
       "<matplotlib.image.AxesImage at 0x4f35e10>"
      ]
     },
     "execution_count": 8,
     "metadata": {},
     "output_type": "execute_result"
    },
    {
     "data": {
      "image/png": "[encoded data removed]",
      "text/plain": [
       "<matplotlib.figure.Figure at 0x4f5df50>"
      ]
     },
     "metadata": {},
     "output_type": "display_data"
    }
   ],
   "source": [
    "figure(figsize=[15,5]); \n",
    "subplot(1,4,1); imshow(prompts.to_nd_array()[0,0,:,:],cmap='gray');\n",
    "subplot(1,4,2); imshow(prompts.to_nd_array()[10,0,:,:],cmap='gray') \n",
    "subplot(1,4,3); imshow(prompts.to_nd_array()[20,0,:,:],cmap='gray') \n",
    "subplot(1,4,4); imshow(prompts.to_nd_array()[30,0,:,:],cmap='gray') "
   ]
  },
  {
   "cell_type": "markdown",
   "metadata": {
    "collapsed": false
   },
   "source": [
    "### 4- Reconstruct! "
   ]
  },
  {
   "cell_type": "code",
   "execution_count": 13,
   "metadata": {
    "collapsed": false
   },
   "outputs": [
    {
     "data": {
      "text/html": [
       "\n",
       "        <div style=\"border: 1px solid white; width:100%%; height:6px; background-color:rgb(200,228,246)\">\n",
       "            <div id=\"734f7e52-dcd3-43ef-bc8a-fcf5bedfa3d2\" style=\"background-color:rgb(47,128,246); width:0%; height:6px\"> </div>\n",
       "        </div> \n",
       "        "
      ],
      "text/plain": [
       "<IPython.core.display.HTML object>"
      ]
     },
     "metadata": {},
     "output_type": "display_data"
    },
    {
     "data": {
      "application/javascript": [
       "$('div#734f7e52-dcd3-43ef-bc8a-fcf5bedfa3d2').width('0%')"
      ],
      "text/plain": [
       "<IPython.core.display.Javascript object>"
      ]
     },
     "metadata": {},
     "output_type": "display_data"
    },
    {
     "data": {
      "application/javascript": [
       "$('div#734f7e52-dcd3-43ef-bc8a-fcf5bedfa3d2').width('5%')"
      ],
      "text/plain": [
       "<IPython.core.display.Javascript object>"
      ]
     },
     "metadata": {},
     "output_type": "display_data"
    },
    {
     "data": {
      "application/javascript": [
       "$('div#734f7e52-dcd3-43ef-bc8a-fcf5bedfa3d2').width('10%')"
      ],
      "text/plain": [
       "<IPython.core.display.Javascript object>"
      ]
     },
     "metadata": {},
     "output_type": "display_data"
    },
    {
     "data": {
      "application/javascript": [
       "$('div#734f7e52-dcd3-43ef-bc8a-fcf5bedfa3d2').width('15%')"
      ],
      "text/plain": [
       "<IPython.core.display.Javascript object>"
      ]
     },
     "metadata": {},
     "output_type": "display_data"
    },
    {
     "data": {
      "application/javascript": [
       "$('div#734f7e52-dcd3-43ef-bc8a-fcf5bedfa3d2').width('20%')"
      ],
      "text/plain": [
       "<IPython.core.display.Javascript object>"
      ]
     },
     "metadata": {},
     "output_type": "display_data"
    },
    {
     "data": {
      "application/javascript": [
       "$('div#734f7e52-dcd3-43ef-bc8a-fcf5bedfa3d2').width('25%')"
      ],
      "text/plain": [
       "<IPython.core.display.Javascript object>"
      ]
     },
     "metadata": {},
     "output_type": "display_data"
    },
    {
     "data": {
      "application/javascript": [
       "$('div#734f7e52-dcd3-43ef-bc8a-fcf5bedfa3d2').width('30%')"
      ],
      "text/plain": [
       "<IPython.core.display.Javascript object>"
      ]
     },
     "metadata": {},
     "output_type": "display_data"
    },
    {
     "data": {
      "application/javascript": [
       "$('div#734f7e52-dcd3-43ef-bc8a-fcf5bedfa3d2').width('35%')"
      ],
      "text/plain": [
       "<IPython.core.display.Javascript object>"
      ]
     },
     "metadata": {},
     "output_type": "display_data"
    },
    {
     "data": {
      "application/javascript": [
       "$('div#734f7e52-dcd3-43ef-bc8a-fcf5bedfa3d2').width('40%')"
      ],
      "text/plain": [
       "<IPython.core.display.Javascript object>"
      ]
     },
     "metadata": {},
     "output_type": "display_data"
    },
    {
     "data": {
      "application/javascript": [
       "$('div#734f7e52-dcd3-43ef-bc8a-fcf5bedfa3d2').width('45%')"
      ],
      "text/plain": [
       "<IPython.core.display.Javascript object>"
      ]
     },
     "metadata": {},
     "output_type": "display_data"
    },
    {
     "data": {
      "application/javascript": [
       "$('div#734f7e52-dcd3-43ef-bc8a-fcf5bedfa3d2').width('50%')"
      ],
      "text/plain": [
       "<IPython.core.display.Javascript object>"
      ]
     },
     "metadata": {},
     "output_type": "display_data"
    },
    {
     "data": {
      "application/javascript": [
       "$('div#734f7e52-dcd3-43ef-bc8a-fcf5bedfa3d2').width('55%')"
      ],
      "text/plain": [
       "<IPython.core.display.Javascript object>"
      ]
     },
     "metadata": {},
     "output_type": "display_data"
    },
    {
     "data": {
      "application/javascript": [
       "$('div#734f7e52-dcd3-43ef-bc8a-fcf5bedfa3d2').width('60%')"
      ],
      "text/plain": [
       "<IPython.core.display.Javascript object>"
      ]
     },
     "metadata": {},
     "output_type": "display_data"
    },
    {
     "data": {
      "application/javascript": [
       "$('div#734f7e52-dcd3-43ef-bc8a-fcf5bedfa3d2').width('65%')"
      ],
      "text/plain": [
       "<IPython.core.display.Javascript object>"
      ]
     },
     "metadata": {},
     "output_type": "display_data"
    },
    {
     "data": {
      "application/javascript": [
       "$('div#734f7e52-dcd3-43ef-bc8a-fcf5bedfa3d2').width('70%')"
      ],
      "text/plain": [
       "<IPython.core.display.Javascript object>"
      ]
     },
     "metadata": {},
     "output_type": "display_data"
    },
    {
     "data": {
      "application/javascript": [
       "$('div#734f7e52-dcd3-43ef-bc8a-fcf5bedfa3d2').width('75%')"
      ],
      "text/plain": [
       "<IPython.core.display.Javascript object>"
      ]
     },
     "metadata": {},
     "output_type": "display_data"
    },
    {
     "data": {
      "application/javascript": [
       "$('div#734f7e52-dcd3-43ef-bc8a-fcf5bedfa3d2').width('80%')"
      ],
      "text/plain": [
       "<IPython.core.display.Javascript object>"
      ]
     },
     "metadata": {},
     "output_type": "display_data"
    },
    {
     "data": {
      "application/javascript": [
       "$('div#734f7e52-dcd3-43ef-bc8a-fcf5bedfa3d2').width('85%')"
      ],
      "text/plain": [
       "<IPython.core.display.Javascript object>"
      ]
     },
     "metadata": {},
     "output_type": "display_data"
    },
    {
     "data": {
      "application/javascript": [
       "$('div#734f7e52-dcd3-43ef-bc8a-fcf5bedfa3d2').width('90%')"
      ],
      "text/plain": [
       "<IPython.core.display.Javascript object>"
      ]
     },
     "metadata": {},
     "output_type": "display_data"
    },
    {
     "data": {
      "application/javascript": [
       "$('div#734f7e52-dcd3-43ef-bc8a-fcf5bedfa3d2').width('95%')"
      ],
      "text/plain": [
       "<IPython.core.display.Javascript object>"
      ]
     },
     "metadata": {},
     "output_type": "display_data"
    },
    {
     "data": {
      "application/javascript": [
       "$('div#734f7e52-dcd3-43ef-bc8a-fcf5bedfa3d2').width('100%')"
      ],
      "text/plain": [
       "<IPython.core.display.Javascript object>"
      ]
     },
     "metadata": {},
     "output_type": "display_data"
    },
    {
     "data": {
      "application/javascript": [
       "$('div#734f7e52-dcd3-43ef-bc8a-fcf5bedfa3d2').width('100%')"
      ],
      "text/plain": [
       "<IPython.core.display.Javascript object>"
      ]
     },
     "metadata": {},
     "output_type": "display_data"
    }
   ],
   "source": [
    "a = pet.estimate_activity(iterations=20,subset_size=64)"
   ]
  },
  {
   "cell_type": "code",
   "execution_count": 14,
   "metadata": {
    "collapsed": false
   },
   "outputs": [
    {
     "data": {
      "text/plain": [
       "<matplotlib.image.AxesImage at 0xa01c450>"
      ]
     },
     "execution_count": 14,
     "metadata": {},
     "output_type": "execute_result"
    },
    {
     "data": {
      "image/png": "[encoded data removed]",
      "text/plain": [
       "<matplotlib.figure.Figure at 0x4e69890>"
      ]
     },
     "metadata": {},
     "output_type": "display_data"
    }
   ],
   "source": [
    "imshow(a.data[64,:,:],cmap='gray')"
   ]
  },
  {
   "cell_type": "markdown",
   "metadata": {
    "collapsed": false
   },
   "source": [
    "#### That was easy! And it's so fast! \n",
    "\n",
    "#### Can it be used with a PET scanner in real life? Yes,  we use Occiput.io with our scanners at the Martinos Center. While we work on preparing the documentation, email us your questions:  occiput@nmr.mgh.harvard.edu \n",
    "#### Does it take into account randoms, attenuation and scatter? Yes. \n",
    "#### Can it be used to test new scanner geometries? Yes. Occiput is extremely flexible, we are preparing more demos to show you how easy it is adapt it to new geometries. "
   ]
  },
  {
   "cell_type": "code",
   "execution_count": null,
   "metadata": {
    "collapsed": false
   },
   "outputs": [],
   "source": []
  },
  {
   "cell_type": "code",
   "execution_count": null,
   "metadata": {
    "collapsed": false
   },
   "outputs": [],
   "source": []
  },
  {
   "cell_type": "code",
   "execution_count": null,
   "metadata": {
    "collapsed": false
   },
   "outputs": [],
   "source": []
  },
  {
   "cell_type": "code",
   "execution_count": null,
   "metadata": {
    "collapsed": false
   },
   "outputs": [],
   "source": []
  },
  {
   "cell_type": "code",
   "execution_count": null,
   "metadata": {
    "collapsed": false
   },
   "outputs": [],
   "source": []
  },
  {
   "cell_type": "code",
   "execution_count": null,
   "metadata": {
    "collapsed": false
   },
   "outputs": [],
   "source": []
  },
  {
   "cell_type": "code",
   "execution_count": null,
   "metadata": {
    "collapsed": false
   },
   "outputs": [],
   "source": []
  },
  {
   "cell_type": "code",
   "execution_count": null,
   "metadata": {
    "collapsed": false
   },
   "outputs": [],
   "source": []
  },
  {
   "cell_type": "code",
   "execution_count": null,
   "metadata": {
    "collapsed": true
   },
   "outputs": [],
   "source": []
  }
 ],
 "metadata": {
  "kernelspec": {
   "display_name": "Python 2",
   "language": "python",
   "name": "python2"
  },
  "language_info": {
   "codemirror_mode": {
    "name": "ipython",
    "version": 2
   },
   "file_extension": ".py",
   "mimetype": "text/x-python",
   "name": "python",
   "nbconvert_exporter": "python",
   "pygments_lexer": "ipython2",
   "version": "2.7.2"
  }
 },
 "nbformat": 4,
 "nbformat_minor": 0
}
