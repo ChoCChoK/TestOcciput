{
 "cells": [
  {
   "cell_type": "markdown",
   "metadata": {},
   "source": [
    "<img align=\"center\" src=\"./images/occiput_logo3.png\" width=\"400\">"
   ]
  },
  {
   "cell_type": "markdown",
   "metadata": {},
   "source": [
    "<h3 align=\"right\">Martinos Center for Biomedical Imaging</font> </h3> \n",
    "<h6 align=\"right\">Edited March 13, 2017</font> </h6> "
   ]
  },
  {
   "cell_type": "markdown",
   "metadata": {},
   "source": [
    " "
   ]
  },
  {
   "cell_type": "markdown",
   "metadata": {},
   "source": [
    "## <font color=\"#D25C5C\">Getting started</font>"
   ]
  },
  {
   "cell_type": "markdown",
   "metadata": {},
   "source": [
    "- ### [<font color=\"#5C5CD2\">How can I use it at the Martinos Center?</font>](doc_organization_of_data_and_examples.ipynb)\n",
    "- ### [<font color=\"#5C5CD2\">How do I install it on my computer?</font>](doc_download_and_install.ipynb)\n",
    "- ### [<font color=\"#5C5CD2\">Organization of the source code</font>](doc_organization_of_source_code.ipynb)\n",
    "- ### [<font color=\"#5C5CD2\">The PET reconstruction module</font>](doc_pet_reconstruction_module.ipynb)"
   ]
  },
  {
   "cell_type": "markdown",
   "metadata": {},
   "source": [
    "## <font color=\"#D25C5C\">Examples - notenooks</font>"
   ]
  },
  {
   "cell_type": "markdown",
   "metadata": {},
   "source": [
    "- ### <font color=\"#5C5CD2\">PET reconstruction - static</font> \n",
    " - #### <font color=\"#5CD25C\">V</font> Static reconstruction in 2D - simple scanner geometry: [v1.0_2017_01_19_simple_2D_PET_reconstructon.ipynb](./v1.0_2017_01_19_simple_2D_PET_reconstructon.ipynb)\n",
    " - #### <font color=\"#5CD25C\">V</font> Static reconstruction in 3D - simple scanner geometry: [v1.0_2017_01_19_simple_3D_PET_reconstructon.ipynb](./v1.0_2017_01_19_simple_3D_PET_reconstructon.ipynb)\n",
    " - #### <font color=\"#5CD25C\">V</font> Static reconstruction in 3D, Brain FDG - Siemens Biograph mMR: [v1.0_2017_02_08_brain_FDG_reconstruction_mMR.ipynb](./v1.0_2017_02_08_brain_FDG_reconstruction_mMR.ipynb) \n",
    " - #### <font color=\"#5CD25C\">V</font> Static reconstruction in 3D, Cylinder - Siemens Biograph mMR: [v1.0_2017_03_06_cylinder_reconstruction_mMR.ipynb](./v1.0_2017_03_06_cylinder_reconstruction_mMR.ipynb) \n",
    " - #### <font color=\"#5CD25C\">V</font> Static reconstruction in 3D, De Renzo - Siemens Biograph mMR: [v1.0_2017_03_02_DeRenzo_reconstruction_mMR.ipynb](./v1.0_2017_03_02_DeRenzo_reconstruction_mMR.ipynb) \n",
    " - #### <font color=\"#5CD25C\">V</font> Static reconstruction of multiple 2D images - faster: [v1.0_2017_01_19_simple_multi2D_PET_reconstructon.ipynb](./v1.0_2017_01_19_simple_multi2D_PET_reconstructon.ipynb)\n",
    " - #### <font color=\"#5CD25C\">V</font> Zoom - [v1.0_2017_02_09_simple_3D_PET_zoomed_reconstructon.ipynb](./v1.0_2017_02_09_simple_3D_PET_zoomed_reconstructon.ipynb)\n",
    " - #### <font color=\"#5CD25C\">V</font> Understanding compressed projections: [v1.0_2017_02_08_compressed_projections.ipynb](./v1.0_2017_02_08_compressed_projections.ipynb)"
   ]
  },
  {
   "cell_type": "markdown",
   "metadata": {},
   "source": [
    "- ### <font color=\"#5C5CD2\">PET simulation</font> \n",
    " - #### <font color=\"#5CD25C\">V</font> Simulation of PET acquisition - Siemens Biograph mMR: [v1.0_2017_02_08_PET_simulator_Siemens_Biograph_mMR.ipynb](v1.0_2017_02_08_PET_simulator_Siemens_Biograph_mMR.ipynb)\n"
   ]
  },
  {
   "cell_type": "markdown",
   "metadata": {},
   "source": [
    "- ### <font color=\"#5C5CD2\">PET reconstruction - dynamic and kinetic</font>\n",
    " - #### <font color=\"#5CD25C\">V</font> Listmode to series of sinograms: [v1.0_2017_02_21_load_listmode_dynamic_Biograph_mMR.ipynb](./v1.0_2017_02_21_load_listmode_dynamic_Biograph_mMR.ipynb)\n",
    " - #### <font color=\"#5CD25C\">V</font> Listmode to series of sinograms with cyclic binning: [v1.0_2017_02_21_load_listmode_cyclic_Biograph_mMR.ipynb](./v1.0_2017_02_21_load_listmode_cyclic_Biograph_mMR.ipynb)\n",
    " - #### <font color=\"#5CD25C\">V</font> Load gating and physiological data and display information: [v1.0_2017_02_21_listmode_triggers_and_physio.ipynb](./v1.0_2017_02_21_listmode_triggers_and_physio.ipynb)\n",
    " - #### <font color=\"#D25C5C\">O</font> Indirect Kinetic PET reconstruction: [v1.0_2017_03_02_PET_brain_FDG_kinetic_CLIM43L.ipynb](./v1.0_2017_03_02_PET_brain_FDG_kinetic_CLIM43L.ipynb) \n",
    " - #### <font color=\"#D25C5C\">O</font> Direct Kinetic PET reconstruction: [xxx.ipynb](./xxx.ipynb) \n",
    " - #### <font color=\"#D25C5C\">O</font> Direct Kinetic PET reconstruction - finite mixture model: [xxx.ipynb](./xxx.ipynb) "
   ]
  },
  {
   "cell_type": "markdown",
   "metadata": {},
   "source": [
    "- ### <font color=\"#5C5CD2\">PET and PET-MR motion correction</font>\n",
    " - #### <font color=\"#5CD25C\">V</font> - PET reconstruction with motion - simple geometry: [v1.0_2017_03_02_PET_reconstruction_with_motion_example.ipynb](./v1.0_2017_03_02_PET_reconstruction_with_motion_example.ipynb)\n",
    " - #### <font color=\"#D25C5C\">O</font> - PET reconstruction with motion - Biograph mMR: [xxx.ipynb](./xxx.ipynb)\n",
    " - #### <font color=\"#5CD25C\">V</font> - Load motion parameters from MRI vNAVs, EPI and others: [v1.0_2015_03_02_load_motion_information_from_MRI.ipynb](./v1.0_2015_03_02_load_motion_information_from_MRI.ipynb) "
   ]
  },
  {
   "cell_type": "markdown",
   "metadata": {},
   "source": [
    "- ### <font color=\"#5C5CD2\">PET joint reconstruction of the activity and attenuation map</font>\n",
    " - ####  <font color=\"#D25C5C\">O</font> - Reconstruction of the attenuation map from emission data - LBFGS: [./2015_08_27_05_Presentation_Lab_Attenuation.ipynb](2015_08_27_05_Presentation_Lab_Attenuation.ipynb) \n",
    " - ####  <font color=\"#D25C5C\">O</font> - Reconstruction of the attenuation map from emission data - MLAA: [xxx.ipynb](./xxx.ipynb) \n",
    " - ####  <font color=\"#D25C5C\">O</font> - Reduction of artifacts due to metal implants - Biograph mMR: [xxx.ipynb](./xxx.ipynb) "
   ]
  },
  {
   "cell_type": "markdown",
   "metadata": {},
   "source": [
    "- ### <font color=\"#5C5CD2\">Freesurfer integration</font>\n",
    " - #### <font color=\"#D25C5C\">O</font> - MR-driven PET reconstruction - Bayesian finite mixture model: [v1.0_2016_05_20_reconstruction_brain_01_rs_mixture.ipynb](./pet_mr_mixture/v1.0_2016_05_20_reconstruction_brain_01_rs_mixture.ipynb)"
   ]
  },
  {
   "cell_type": "markdown",
   "metadata": {},
   "source": [
    "## <font color=\"#D25C5C\">Development</font>\n",
    "\n",
    "- ### <font color=\"#5C5CD2\">Development plan</font>\n",
    "\n",
    "  - complete sinogram binning ray-tracer for arbitrary geometry\n",
    "  - compute OSEM iterations entirely on GPU\n",
    "  - implement interface to GE devices \n",
    "  - scatter simulator\n",
    "  - spherical geometry \n",
    "  - time of flight\n",
    "\n",
    "- ### [<font color=\"#5C5CD2\">List of things to do</font>](doc_todo_list.ipynb)"
   ]
  },
  {
   "cell_type": "code",
   "execution_count": null,
   "metadata": {
    "collapsed": true
   },
   "outputs": [],
   "source": []
  }
 ],
 "metadata": {
  "kernelspec": {
   "display_name": "Python 2",
   "language": "python",
   "name": "python2"
  },
  "language_info": {
   "codemirror_mode": {
    "name": "ipython",
    "version": 2
   },
   "file_extension": ".py",
   "mimetype": "text/x-python",
   "name": "python",
   "nbconvert_exporter": "python",
   "pygments_lexer": "ipython2",
   "version": "2.7.11"
  }
 },
 "nbformat": 4,
 "nbformat_minor": 2
}
