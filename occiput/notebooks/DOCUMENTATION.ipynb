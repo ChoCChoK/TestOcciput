{
 "cells": [
  {
   "cell_type": "markdown",
   "metadata": {},
   "source": [
    "<img align=\"center\" src=\"./images/occiput_logo3.png\" width=\"400\">"
   ]
  },
  {
   "cell_type": "markdown",
   "metadata": {},
   "source": [
    "<h3 align=\"right\">Martinos Center for Biomedical Imaging</font> </h3>"
   ]
  },
  {
   "cell_type": "markdown",
   "metadata": {},
   "source": [
    "<h5 align=\"right\">Massachusetts General Hospital - Harvard Medical School</font> </h5>  "
   ]
  },
  {
   "cell_type": "markdown",
   "metadata": {},
   "source": [
    "## <span style=\"color:#D25C5C\">Introduction</span>"
   ]
  },
  {
   "cell_type": "markdown",
   "metadata": {},
   "source": [
    "- ### [<span style=\"color:#5C5CD2\">Organization of the source code</span>](doc_organization_of_source_code.ipynb)\n",
    "- ### [<span style=\"color:#5C5CD2\">The PET reconstruction module</span>](doc_pet_reconstruction_module.ipynb)"
   ]
  },
  {
   "cell_type": "markdown",
   "metadata": {},
   "source": [
    "## <span style=\"color:#D25C5C\">Examples - notenooks</span>"
   ]
  },
  {
   "cell_type": "markdown",
   "metadata": {},
   "source": [
    "- ### <span style=\"color:#5C5CD2\">PET reconstruction - static</span> \n",
    " - #### <span style=\"color:#5CD25C\">V</span>  Static reconstruction in 2D - simple scanner geometry: [Example_PET_recon_2D_simple.ipynb](./Example_PET_recon_2D_simple.ipynb)\n",
    " - #### <span style=\"color:#5CD25C\">V</span>  Static reconstruction in 3D - simple scanner geometry: [Example_PET_recon_3D_simple.ipynb](./Example_PET_recon_3D_simple.ipynb)\n",
    " - #### <span style=\"color:#5CD25C\">V</span>  Static reconstruction in 3D, Brain FDG - Siemens Biograph mMR: [Example_PET_recon_brain_FDG_Biograph_mMR.ipynb](./Example_PET_recon_brain_FDG_Biograph_mMR.ipynb) \n",
    " - #### <span style=\"color:#5CD25C\">V</span>  Static reconstruction in 3D, Cylinder - Siemens Biograph mMR: [Example_PET_recon_cylinder_Biograph_mMR.ipynb](./Example_PET_recon_cylinder_Biograph_mMR.ipynb) \n",
    " - #### <span style=\"color:#5CD25C\">V</span>  Static reconstruction in 3D, De Renzo - Siemens Biograph mMR: [Example_PET_recon_DeRenzo_Biograph_mMR.ipynb](./Example_PET_recon_DeRenzo_Biograph_mMR.ipynb) \n",
    " - #### <span style=\"color:#5CD25C\">V</span>  Static reconstruction of multiple 2D images - faster: [Example_PET_recon_Multi2D_simple.ipynb](./Example_PET_recon_Multi2D_simple.ipynb)\n",
    " - #### <span style=\"color:#5CD25C\">V</span>  Zoom - [Example_PET_recon_3D_zoom.ipynb](./Example_PET_recon_3D_zoom.ipynb)\n",
    " - #### <span style=\"color:#5CD25C\">V</span>  Understanding compressed projections: [Example_PET_compressed_projections.ipynb](./Example_PET_compressed_projections.ipynb)"
   ]
  },
  {
   "cell_type": "markdown",
   "metadata": {},
   "source": [
    "- ### <span style=\"color:#5C5CD2\">PET simulation</span> \n",
    " - #### <span style=\"color:#5CD25C\">V</span>  Simulation of PET acquisition - Siemens Biograph mMR: [Example_PET_simulation_Biograph_mMR.ipynb](Example_PET_simulation_Biograph_mMR.ipynb)"
   ]
  },
  {
   "cell_type": "markdown",
   "metadata": {},
   "source": [
    "- ### <span style=\"color:#5C5CD2\">PET reconstruction - dynamic and kinetic</span>\n",
    " - #### <span style=\"color:#5CD25C\">V</span> Listmode to series of sinograms: [Example_PET_load_listmode_dynamic.ipynb](./Example_PET_load_listmode_dynamic.ipynb)\n",
    " - #### <span style=\"color:#5CD25C\">V</span> Listmode to series of sinograms with cyclic binning: [Example_PET_load_listmode_cyclic.ipynb](./Example_PET_load_listmode_cyclic.ipynb)\n",
    " - #### <span style=\"color:#5CD25C\">V</span> Load gating and physiological data and display information: [Example_PET_listmode_triggers_and_physio.ipynb](./Example_PET_listmode_triggers_and_physio.ipynb)\n",
    " - #### <span style=\"color:#D25C5C\">O</span> Indirect Kinetic PET reconstruction: [Example_PET_recon_brain_FDG_kinetic_Biograph_mMR.ipynb](./Example_PET_recon_brain_FDG_kinetic_Biograph_mMR.ipynb) "
   ]
  },
  {
   "cell_type": "markdown",
   "metadata": {},
   "source": [
    "- ### <span style=\"color:#5C5CD2\">PET and PET-MR motion correction</span>\n",
    " - #### <span style=\"color:#5CD25C\">V</span> - PET reconstruction with motion - simple geometry: [Example_PET_recon_motion_aware.ipynb](./Example_PET_recon_motion_aware.ipynb)\n",
    " - #### <span style=\"color:#5CD25C\">V</span> - Load motion parameters from MRI vNAVs, EPI and others: [Example_load_motion_parameters.ipynb](./Example_load_motion_parameters.ipynb) "
   ]
  },
  {
   "cell_type": "markdown",
   "metadata": {},
   "source": [
    "- ### <span style=\"color:#5C5CD2\">PET joint reconstruction of the activity and attenuation map</span>\n",
    " - ####  <span style=\"color:#D25C5C\">O</span> - Reconstruction of the attenuation map from emission data - LBFGS: [xxx.ipynb](./xxx.ipynb) \n",
    " - ####  <span style=\"color:#D25C5C\">O</span> - Reconstruction of the attenuation map from emission data - MLAA: [xxx.ipynb](./xxx.ipynb) \n",
    " - ####  <span style=\"color:#D25C5C\">O</span> - Reduction of artifacts due to metal implants - Biograph mMR: [xxx.ipynb](./xxx.ipynb) "
   ]
  },
  {
   "cell_type": "markdown",
   "metadata": {},
   "source": [
    "- ### <span style=\"color:#5C5CD2\">Freesurfer integration</span>\n",
    " - #### <span style=\"color:#D25C5C\">O</span> - MR-driven PET reconstruction - Bayesian finite mixture model: [Example_PET_recon_brain_Bayesian_Freesurfer.ipynb](./Example_PET_recon_brain_Bayesian_Freesurfer.ipynb)"
   ]
  },
  {
   "cell_type": "markdown",
   "metadata": {},
   "source": [
    "## <span style=\"color:#D25C5C\">Development</span>\n",
    "\n",
    "- ### <span style=\"color:#5C5CD2\">Development plan</span>\n",
    "\n",
    "  - complete sinogram binning ray-tracer for arbitrary geometry\n",
    "  - compute OSEM iterations entirely on GPU\n",
    "  - implement interface to GE devices \n",
    "  - scatter simulator\n",
    "  - spherical geometry \n",
    "  - time of flight\n",
    "\n",
    "- ### [<span style=\"color:#5C5CD2\">List of things to do</span>](doc_todo_list.ipynb)"
   ]
  },
  {
   "cell_type": "code",
   "execution_count": null,
   "metadata": {
    "collapsed": true
   },
   "outputs": [],
   "source": []
  }
 ],
 "metadata": {
  "kernelspec": {
   "display_name": "Python 2",
   "language": "python",
   "name": "python2"
  },
  "language_info": {
   "codemirror_mode": {
    "name": "ipython",
    "version": 2
   },
   "file_extension": ".py",
   "mimetype": "text/x-python",
   "name": "python",
   "nbconvert_exporter": "python",
   "pygments_lexer": "ipython2",
   "version": "2.7.10"
  }
 },
 "nbformat": 4,
 "nbformat_minor": 2
}
