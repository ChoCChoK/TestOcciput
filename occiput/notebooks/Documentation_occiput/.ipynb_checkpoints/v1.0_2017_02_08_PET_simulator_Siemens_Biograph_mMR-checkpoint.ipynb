{
 "cells": [
  {
   "cell_type": "markdown",
   "metadata": {},
   "source": [
    "<img align=\"center\" src=\"./images/occiput_logo3.png\" width=\"400\">"
   ]
  },
  {
   "cell_type": "markdown",
   "metadata": {},
   "source": [
    "# Simulator of Siemens Biograph mMR PET-MR scanner"
   ]
  },
  {
   "cell_type": "markdown",
   "metadata": {},
   "source": [
    "#### This notebook shows how to simulate PET acquisition and reconstruction using the Siemens Biograph mMR geometry  "
   ]
  },
  {
   "cell_type": "markdown",
   "metadata": {},
   "source": [
    "# SIMULATION"
   ]
  },
  {
   "cell_type": "code",
   "execution_count": 1,
   "metadata": {
    "collapsed": false
   },
   "outputs": [],
   "source": [
    "import occiput\n",
    "from occiput.Reconstruction.PET.PET_scanners import Biograph_mMR\n",
    "\n",
    "import numpy as np\n",
    "import scipy.io as io"
   ]
  },
  {
   "cell_type": "code",
   "execution_count": 2,
   "metadata": {
    "collapsed": true
   },
   "outputs": [],
   "source": [
    "sim_path = '../../Douglas/simulation/01'"
   ]
  },
  {
   "cell_type": "markdown",
   "metadata": {},
   "source": [
    "## Set scanner geometry and characteristics"
   ]
  },
  {
   "cell_type": "code",
   "execution_count": 3,
   "metadata": {
    "collapsed": false
   },
   "outputs": [],
   "source": [
    "pet = occiput.Reconstruction.PET.PET_Static_Scan()\n",
    "pet.set_scanner(Biograph_mMR) "
   ]
  },
  {
   "cell_type": "code",
   "execution_count": 4,
   "metadata": {
    "collapsed": true
   },
   "outputs": [],
   "source": [
    "pet.use_compression(False) "
   ]
  },
  {
   "cell_type": "code",
   "execution_count": 5,
   "metadata": {
    "collapsed": false
   },
   "outputs": [],
   "source": [
    "pet.import_sensitivity('%s/norm3d_00.h33'%sim_path) "
   ]
  },
  {
   "cell_type": "markdown",
   "metadata": {},
   "source": [
    "## Load activity phantom and attenuation phantom"
   ]
  },
  {
   "cell_type": "markdown",
   "metadata": {},
   "source": [
    "#### Change the files here to change groundtruth activity and attenuation. Or change the variable simulation_path; in this case the new path must contains the required nifti files with the activity and attenuation phantoms. "
   ]
  },
  {
   "cell_type": "code",
   "execution_count": 6,
   "metadata": {
    "collapsed": false
   },
   "outputs": [
    {
     "ename": "AttributeError",
     "evalue": "'module' object has no attribute 'load_image'",
     "output_type": "error",
     "traceback": [
      "\u001b[0;31m\u001b[0m",
      "\u001b[0;31mAttributeError\u001b[0mTraceback (most recent call last)",
      "\u001b[0;32m<ipython-input-6-14749b8fd727>\u001b[0m in \u001b[0;36m<module>\u001b[0;34m()\u001b[0m\n\u001b[0;32m----> 1\u001b[0;31m \u001b[0mtrue_activity\u001b[0m \u001b[0;34m=\u001b[0m \u001b[0mocciput\u001b[0m\u001b[0;34m.\u001b[0m\u001b[0mDataSources\u001b[0m\u001b[0;34m.\u001b[0m\u001b[0mFileSources\u001b[0m\u001b[0;34m.\u001b[0m\u001b[0mimport_nifti\u001b[0m\u001b[0;34m(\u001b[0m\u001b[0;34m'%s/true_activity.nii'\u001b[0m\u001b[0;34m%\u001b[0m\u001b[0msim_path\u001b[0m\u001b[0;34m)\u001b[0m\u001b[0;34m\u001b[0m\u001b[0m\n\u001b[0m\u001b[1;32m      2\u001b[0m \u001b[0mattenuation\u001b[0m   \u001b[0;34m=\u001b[0m \u001b[0mocciput\u001b[0m\u001b[0;34m.\u001b[0m\u001b[0mDataSources\u001b[0m\u001b[0;34m.\u001b[0m\u001b[0mFileSources\u001b[0m\u001b[0;34m.\u001b[0m\u001b[0mimport_nifti\u001b[0m\u001b[0;34m(\u001b[0m\u001b[0;34m'%s/attenuation.nii'\u001b[0m\u001b[0;34m%\u001b[0m\u001b[0msim_path\u001b[0m\u001b[0;34m)\u001b[0m\u001b[0;34m\u001b[0m\u001b[0m\n",
      "\u001b[0;32m/autofs/space/mercury_002/users/occiput/software/Python2.7_Jan_2017/install/bin/mercury_Jan_2017/lib/python2.7/site-packages/occiput/DataSources/FileSources/Volume.pyc\u001b[0m in \u001b[0;36mimport_nifti\u001b[0;34m(filename)\u001b[0m\n\u001b[1;32m     26\u001b[0m \u001b[0;34m\u001b[0m\u001b[0m\n\u001b[1;32m     27\u001b[0m \u001b[0;32mdef\u001b[0m \u001b[0mimport_nifti\u001b[0m\u001b[0;34m(\u001b[0m\u001b[0mfilename\u001b[0m\u001b[0;34m)\u001b[0m\u001b[0;34m:\u001b[0m\u001b[0;34m\u001b[0m\u001b[0m\n\u001b[0;32m---> 28\u001b[0;31m     \u001b[0mnip\u001b[0m \u001b[0;34m=\u001b[0m \u001b[0mnibabel\u001b[0m\u001b[0;34m.\u001b[0m\u001b[0mload_image\u001b[0m\u001b[0;34m(\u001b[0m\u001b[0mfilename\u001b[0m\u001b[0;34m,\u001b[0m \u001b[0mmmap\u001b[0m\u001b[0;34m=\u001b[0m\u001b[0mFalse\u001b[0m\u001b[0;34m)\u001b[0m\u001b[0;34m\u001b[0m\u001b[0m\n\u001b[0m\u001b[1;32m     29\u001b[0m     \u001b[0;32mreturn\u001b[0m \u001b[0mnipy_to_occiput\u001b[0m\u001b[0;34m(\u001b[0m\u001b[0mnip\u001b[0m\u001b[0;34m)\u001b[0m\u001b[0;34m\u001b[0m\u001b[0m\n\u001b[1;32m     30\u001b[0m \u001b[0;34m\u001b[0m\u001b[0m\n",
      "\u001b[0;31mAttributeError\u001b[0m: 'module' object has no attribute 'load_image'"
     ]
    }
   ],
   "source": [
    "true_activity = occiput.DataSources.FileSources.import_nifti('%s/true_activity.nii'%sim_path)\n",
    "attenuation   = occiput.DataSources.FileSources.import_nifti('%s/attenuation.nii'%sim_path)"
   ]
  },
  {
   "cell_type": "code",
   "execution_count": null,
   "metadata": {
    "collapsed": false
   },
   "outputs": [],
   "source": []
  },
  {
   "cell_type": "code",
   "execution_count": null,
   "metadata": {
    "collapsed": false
   },
   "outputs": [],
   "source": [
    "figure(figsize=[20,10])\n",
    "subplot(1,2,1); imshow(flipud(true_activity.data[:,:,64]),cmap='hot') \n",
    "subplot(1,2,2); imshow(flipud(attenuation.data[:,:,64]),cmap='gray') "
   ]
  },
  {
   "cell_type": "markdown",
   "metadata": {},
   "source": [
    "## Simulate PET acquisition"
   ]
  },
  {
   "cell_type": "markdown",
   "metadata": {},
   "source": [
    "#### 1- Compute noiseless prompts in the ideal case (no scatter, no randoms)"
   ]
  },
  {
   "cell_type": "code",
   "execution_count": null,
   "metadata": {
    "collapsed": false
   },
   "outputs": [],
   "source": [
    "# Set the discretization grid for the attenuation:\n",
    "pet.set_attenuation_shape([344,344,127])\n",
    "pet.set_attenuation_size([2.08626*344, 2.08626*344, 2.03125*127])\n",
    "attenuation_projection = pet.project_attenuation(attenuation)\n",
    "\n",
    "# Set the discretization grid for the activity: \n",
    "pet.set_activity_shape([344,344,127])\n",
    "pet.set_activity_size([2.08626*344, 2.08626*344, 2.03125*127])\n",
    "ideal_prompts = pet.project_activity(true_activity) "
   ]
  },
  {
   "cell_type": "code",
   "execution_count": null,
   "metadata": {
    "collapsed": false
   },
   "outputs": [],
   "source": [
    "figure(figsize=[20,10])\n",
    "subplot(1,2,1); imshow(flipud(attenuation_projection.to_nd_array()[0,5,:,:].T), cmap=\"gray\")\n",
    "subplot(1,2,2); imshow(flipud(attenuation_projection.to_nd_array()[126,5,:,:].T), cmap=\"gray\")"
   ]
  },
  {
   "cell_type": "markdown",
   "metadata": {},
   "source": [
    "#### 2- Add expected randoms and scatter "
   ]
  },
  {
   "cell_type": "code",
   "execution_count": null,
   "metadata": {
    "collapsed": false
   },
   "outputs": [],
   "source": [
    "randoms = occiput.DataSources.FileSources.import_PET_Projection('%s/randoms.h5'%sim_path)\n",
    "scatter = occiput.DataSources.FileSources.import_PET_Projection('%s/scatter.h5'%sim_path)"
   ]
  },
  {
   "cell_type": "markdown",
   "metadata": {},
   "source": [
    "#### 3- Set scan duration and apply Poisson noise"
   ]
  },
  {
   "cell_type": "code",
   "execution_count": null,
   "metadata": {
    "collapsed": false
   },
   "outputs": [],
   "source": [
    "acquisition_time_sec = 20*60\n",
    "counts_per_sec       = 5e5\n",
    "\n",
    "scale = acquisition_time_sec * counts_per_sec / ideal_prompts.data.sum()\n",
    "\n",
    "randoms.data = randoms.data * scale\n",
    "scatter.data = 10*scatter.data * scale \n",
    "\n",
    "import copy\n",
    "prompts = copy.deepcopy(ideal_prompts)\n",
    "prompts.data = ideal_prompts.data * scale * attenuation_projection.data * pet.sensitivity.data + randoms.data + scatter.data * pet.sensitivity.data\n",
    "\n",
    "noisy_prompts = copy.deepcopy(prompts)\n",
    "noisy_prompts.data = numpy.random.poisson(prompts.data)\n",
    "\n",
    "print true_activity.data.max(), true_activity.data.mean()\n",
    "print scale\n",
    "print pet.scale_activity"
   ]
  },
  {
   "cell_type": "code",
   "execution_count": null,
   "metadata": {
    "collapsed": false
   },
   "outputs": [],
   "source": [
    "figure(figsize=[20,10])\n",
    "subplot(1,2,1); imshow(flipud(noisy_prompts.to_nd_array()[0,5,:,:].T), cmap=\"hot\")\n",
    "subplot(1,2,2); imshow(flipud(noisy_prompts.to_nd_array()[126,5,:,:].T), cmap=\"hot\")\n",
    "figure(figsize=[20,10])\n",
    "subplot(1,2,1); imshow(flipud(scatter.to_nd_array()[0,5,:,:].T), cmap=\"hot\")\n",
    "subplot(1,2,2); imshow(flipud(scatter.to_nd_array()[126,5,:,:].T), cmap=\"hot\")\n",
    "figure(figsize=[20,10])\n",
    "subplot(1,2,1); imshow(flipud(randoms.to_nd_array()[0,5,:,:].T), cmap=\"hot\")\n",
    "subplot(1,2,2); imshow(flipud(randoms.to_nd_array()[126,5,:,:].T), cmap=\"hot\")"
   ]
  },
  {
   "cell_type": "markdown",
   "metadata": {},
   "source": [
    "## Reconstruct"
   ]
  },
  {
   "cell_type": "code",
   "execution_count": null,
   "metadata": {
    "collapsed": false
   },
   "outputs": [],
   "source": [
    "#pet.set_prompts(ideal_prompts) \n",
    "pet.set_prompts(noisy_prompts) \n",
    "pet.set_randoms(randoms) \n",
    "pet.set_scatter(scatter) \n",
    "pet.set_attenuation(attenuation)\n",
    "\n",
    "pet.scale_activity = 1.0"
   ]
  },
  {
   "cell_type": "code",
   "execution_count": null,
   "metadata": {
    "collapsed": false
   },
   "outputs": [],
   "source": [
    "figure(figsize=[16,6]); hold(1)\n",
    "plot(pet.randoms.data[126,8,:,70] + pet.scatter.data[126,8,:,70]*pet.sensitivity.data[126,5,:,70],'r'); \n",
    "plot(prompts.data[126,8,:,70],'g');\n",
    "plot(pet.prompts.data[126,8,:,70],'b');"
   ]
  },
  {
   "cell_type": "code",
   "execution_count": null,
   "metadata": {
    "collapsed": true
   },
   "outputs": [],
   "source": [
    "Nx = 128\n",
    "Ny = 128\n",
    "Nz = 128\n",
    "pet.set_activity_shape([Nx,Ny,Nz])\n",
    "pet.set_activity_size([2.08626*Nx, 2.08626*Ny, 2.03125*Nz])"
   ]
  },
  {
   "cell_type": "code",
   "execution_count": null,
   "metadata": {
    "collapsed": true
   },
   "outputs": [],
   "source": [
    "# Free some memory\n",
    "del ideal_prompts, prompts, attenuation"
   ]
  },
  {
   "cell_type": "code",
   "execution_count": 20,
   "metadata": {
    "collapsed": false
   },
   "outputs": [
    {
     "name": "stdout",
     "output_type": "stream",
     "text": [
      "0\n"
     ]
    },
    {
     "ename": "MemoryError",
     "evalue": "",
     "output_type": "error",
     "traceback": [
      "\u001b[0;31m\u001b[0m",
      "\u001b[0;31mMemoryError\u001b[0mTraceback (most recent call last)",
      "\u001b[0;32m<ipython-input-20-f0d4fa35779e>\u001b[0m in \u001b[0;36m<module>\u001b[0;34m()\u001b[0m\n\u001b[0;32m----> 1\u001b[0;31m \u001b[0mactivity\u001b[0m \u001b[0;34m=\u001b[0m \u001b[0mpet\u001b[0m\u001b[0;34m.\u001b[0m\u001b[0mosem_reconstruction\u001b[0m\u001b[0;34m(\u001b[0m\u001b[0miterations\u001b[0m\u001b[0;34m=\u001b[0m\u001b[0;36m15\u001b[0m\u001b[0;34m,\u001b[0m \u001b[0msubset_mode\u001b[0m\u001b[0;34m=\u001b[0m\u001b[0;34m\"ordered_axial\"\u001b[0m\u001b[0;34m,\u001b[0m \u001b[0msubset_size\u001b[0m\u001b[0;34m=\u001b[0m\u001b[0;36m12\u001b[0m\u001b[0;34m,\u001b[0m \u001b[0mattenuation_projection\u001b[0m\u001b[0;34m=\u001b[0m\u001b[0mattenuation_projection\u001b[0m\u001b[0;34m)\u001b[0m\u001b[0;34m\u001b[0m\u001b[0m\n\u001b[0m",
      "\u001b[0;32m/autofs/space/mercury_002/users/occiput/software/Python2.7_Jan_2017/install/bin/mercury_Jan_2017/lib/python2.7/site-packages/occiput/Reconstruction/PET/PET.pyc\u001b[0m in \u001b[0;36mosem_reconstruction\u001b[0;34m(self, iterations, activity, attenuation_projection, subset_mode, subset_size, transformation)\u001b[0m\n\u001b[1;32m   1608\u001b[0m             \u001b[0msubsets_matrix\u001b[0m \u001b[0;34m=\u001b[0m \u001b[0msubsets_generator\u001b[0m\u001b[0;34m.\u001b[0m\u001b[0mnew_subset\u001b[0m\u001b[0;34m(\u001b[0m\u001b[0msubset_mode\u001b[0m\u001b[0;34m,\u001b[0m \u001b[0msubset_size\u001b[0m\u001b[0;34m)\u001b[0m\u001b[0;34m\u001b[0m\u001b[0m\n\u001b[1;32m   1609\u001b[0m             \u001b[0;31m#subsets_matrix = ones([11,252])\u001b[0m\u001b[0;34m\u001b[0m\u001b[0;34m\u001b[0m\u001b[0m\n\u001b[0;32m-> 1610\u001b[0;31m             \u001b[0mactivity\u001b[0m \u001b[0;34m=\u001b[0m \u001b[0mself\u001b[0m\u001b[0;34m.\u001b[0m\u001b[0mmlem_step\u001b[0m\u001b[0;34m(\u001b[0m\u001b[0mactivity\u001b[0m\u001b[0;34m,\u001b[0m \u001b[0msubsets_matrix\u001b[0m\u001b[0;34m,\u001b[0m \u001b[0mattenuation_projection\u001b[0m\u001b[0;34m,\u001b[0m \u001b[0mtransformation\u001b[0m\u001b[0;34m)\u001b[0m\u001b[0;34m\u001b[0m\u001b[0m\n\u001b[0m\u001b[1;32m   1611\u001b[0m         \u001b[0;32mreturn\u001b[0m \u001b[0mactivity\u001b[0m\u001b[0;34m\u001b[0m\u001b[0m\n\u001b[1;32m   1612\u001b[0m \u001b[0;34m\u001b[0m\u001b[0m\n",
      "\u001b[0;32m/autofs/space/mercury_002/users/occiput/software/Python2.7_Jan_2017/install/bin/mercury_Jan_2017/lib/python2.7/site-packages/occiput/Reconstruction/PET/PET.pyc\u001b[0m in \u001b[0;36mmlem_step\u001b[0;34m(self, activity, subsets_matrix, attenuation_projection, transformation)\u001b[0m\n\u001b[1;32m   1646\u001b[0m             \u001b[0;31m# Scale scatter: this is used in dynamic and kinetic imaging, when scatter is calculated using the ativity for a time period longer than the current frame:\u001b[0m\u001b[0;34m\u001b[0m\u001b[0;34m\u001b[0m\u001b[0m\n\u001b[1;32m   1647\u001b[0m             \u001b[0;32mif\u001b[0m \u001b[0mself\u001b[0m\u001b[0;34m.\u001b[0m\u001b[0mscatter\u001b[0m\u001b[0;34m.\u001b[0m\u001b[0mget_duration\u001b[0m\u001b[0;34m(\u001b[0m\u001b[0;34m)\u001b[0m \u001b[0;32mis\u001b[0m \u001b[0;32mnot\u001b[0m \u001b[0mNone\u001b[0m\u001b[0;34m:\u001b[0m\u001b[0;34m\u001b[0m\u001b[0m\n\u001b[0;32m-> 1648\u001b[0;31m                 \u001b[0mmscatter\u001b[0m \u001b[0;34m=\u001b[0m \u001b[0mmscatter\u001b[0m \u001b[0;34m*\u001b[0m \u001b[0mduration\u001b[0m \u001b[0;34m/\u001b[0m \u001b[0mself\u001b[0m\u001b[0;34m.\u001b[0m\u001b[0mscatter\u001b[0m\u001b[0;34m.\u001b[0m\u001b[0mget_duration\u001b[0m\u001b[0;34m(\u001b[0m\u001b[0;34m)\u001b[0m\u001b[0;34m\u001b[0m\u001b[0m\n\u001b[0m\u001b[1;32m   1649\u001b[0m \u001b[0;34m\u001b[0m\u001b[0m\n\u001b[1;32m   1650\u001b[0m         \u001b[0mnorm\u001b[0m \u001b[0;34m=\u001b[0m \u001b[0mself\u001b[0m\u001b[0;34m.\u001b[0m\u001b[0mbackproject_activity\u001b[0m\u001b[0;34m(\u001b[0m\u001b[0msens_x_att\u001b[0m \u001b[0;34m*\u001b[0m \u001b[0malpha\u001b[0m \u001b[0;34m*\u001b[0m \u001b[0mduration\u001b[0m\u001b[0;34m,\u001b[0m \u001b[0mtransformation\u001b[0m\u001b[0;34m=\u001b[0m\u001b[0mtransformation\u001b[0m\u001b[0;34m)\u001b[0m\u001b[0;34m\u001b[0m\u001b[0m\n",
      "\u001b[0;32m/autofs/space/mercury_002/users/occiput/software/Python2.7_Jan_2017/install/bin/mercury_Jan_2017/lib/python2.7/site-packages/occiput/Reconstruction/PET/PET_projection.pyc\u001b[0m in \u001b[0;36m__mul__\u001b[0;34m(self, other)\u001b[0m\n\u001b[1;32m    567\u001b[0m         \u001b[0;32mif\u001b[0m \u001b[0mself\u001b[0m\u001b[0;34m.\u001b[0m\u001b[0m_is_same_sparsity_\u001b[0m\u001b[0;34m(\u001b[0m\u001b[0mother\u001b[0m\u001b[0;34m)\u001b[0m\u001b[0;34m:\u001b[0m\u001b[0;34m\u001b[0m\u001b[0m\n\u001b[1;32m    568\u001b[0m             \u001b[0mother\u001b[0m \u001b[0;34m=\u001b[0m \u001b[0mother\u001b[0m\u001b[0;34m.\u001b[0m\u001b[0mdata\u001b[0m\u001b[0;34m\u001b[0m\u001b[0m\n\u001b[0;32m--> 569\u001b[0;31m         \u001b[0mout\u001b[0m \u001b[0;34m=\u001b[0m \u001b[0mPET_Projection\u001b[0m\u001b[0;34m(\u001b[0m\u001b[0mself\u001b[0m\u001b[0;34m.\u001b[0m\u001b[0mbinning\u001b[0m\u001b[0;34m,\u001b[0m \u001b[0mdata\u001b[0m\u001b[0;34m=\u001b[0m\u001b[0mself\u001b[0m\u001b[0;34m.\u001b[0m\u001b[0mdata\u001b[0m\u001b[0;34m*\u001b[0m\u001b[0mother\u001b[0m\u001b[0;34m,\u001b[0m \u001b[0moffsets\u001b[0m\u001b[0;34m=\u001b[0m\u001b[0mself\u001b[0m\u001b[0;34m.\u001b[0m\u001b[0msparsity\u001b[0m\u001b[0;34m.\u001b[0m\u001b[0moffsets\u001b[0m\u001b[0;34m,\u001b[0m \u001b[0mlocations\u001b[0m\u001b[0;34m=\u001b[0m\u001b[0mself\u001b[0m\u001b[0;34m.\u001b[0m\u001b[0msparsity\u001b[0m\u001b[0;34m.\u001b[0m\u001b[0mlocations\u001b[0m\u001b[0;34m,\u001b[0m \u001b[0mtime_bins\u001b[0m\u001b[0;34m=\u001b[0m\u001b[0mself\u001b[0m\u001b[0;34m.\u001b[0m\u001b[0mtime_bins\u001b[0m\u001b[0;34m)\u001b[0m\u001b[0;34m\u001b[0m\u001b[0m\n\u001b[0m\u001b[1;32m    570\u001b[0m         \u001b[0;32mreturn\u001b[0m \u001b[0mout\u001b[0m\u001b[0;34m\u001b[0m\u001b[0m\n\u001b[1;32m    571\u001b[0m \u001b[0;34m\u001b[0m\u001b[0m\n",
      "\u001b[0;31mMemoryError\u001b[0m: "
     ]
    }
   ],
   "source": [
    "activity = pet.osem_reconstruction(iterations=15, subset_mode=\"ordered_axial\", subset_size=12, attenuation_projection=attenuation_projection) "
   ]
  },
  {
   "cell_type": "code",
   "execution_count": null,
   "metadata": {
    "collapsed": false
   },
   "outputs": [],
   "source": [
    "figure(figsize=[20,10]) \n",
    "subplot(1,3,1); imshow(flipud(true_activity.data[:,:,64]),cmap='hot') \n",
    "subplot(1,3,2); imshow(flipud(activity.data[:,:,64]),cmap='hot') \n",
    "subplot(1,3,3); imshow(flipud(attenuation.data[:,:,64]),cmap='gray') "
   ]
  },
  {
   "cell_type": "code",
   "execution_count": null,
   "metadata": {
    "collapsed": false
   },
   "outputs": [],
   "source": [
    "pet.prompts.save_to_file('%s/noisy_prompts.nii'%sim_path) \n",
    "activity.save_to_file('%s/activity_recon.nii'%sim_path) "
   ]
  },
  {
   "cell_type": "code",
   "execution_count": null,
   "metadata": {
    "collapsed": false
   },
   "outputs": [],
   "source": [
    "figure(figsize=[20,6])\n",
    "subplot(1,2,1); plot(activity.data[170,:,64]*pet.scale_activity/scale); hold(1); plot(true_activity.data[170,:,64]);\n",
    "print true_activity.data.max(), true_activity.data.mean()\n",
    "print activity.data.max()*pet.scale_activity/scale, activity.data.mean()*pet.scale_activity/scale"
   ]
  }
 ],
 "metadata": {
  "kernelspec": {
   "display_name": "Python 2",
   "language": "python",
   "name": "python2"
  },
  "language_info": {
   "codemirror_mode": {
    "name": "ipython",
    "version": 2
   },
   "file_extension": ".py",
   "mimetype": "text/x-python",
   "name": "python",
   "nbconvert_exporter": "python",
   "pygments_lexer": "ipython2",
   "version": "2.7.11"
  }
 },
 "nbformat": 4,
 "nbformat_minor": 0
}
