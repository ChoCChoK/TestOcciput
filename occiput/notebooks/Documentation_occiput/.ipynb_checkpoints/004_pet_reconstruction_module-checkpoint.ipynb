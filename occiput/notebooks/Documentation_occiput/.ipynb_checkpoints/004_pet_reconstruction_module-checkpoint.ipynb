{
 "cells": [
  {
   "cell_type": "markdown",
   "metadata": {},
   "source": [
    "# PET reconstruction module\n"
   ]
  },
  {
   "cell_type": "markdown",
   "metadata": {},
   "source": [
    "The PET reconstruction module, contained in the directory occiput->Reconstruction->PET, contains code for PET \n",
    "reconstruction. The reconstruction module is build on top of the NiftyRec GPU-based ray-tracer for emission and transmission tomograpy. "
   ]
  },
  {
   "cell_type": "markdown",
   "metadata": {},
   "source": [
    "### Organization of the source code\n",
    "The PET reconstruction module contains classes to represent projection and reconstruction data and classes that implement algorithms for static and dynamic PET reconstruction .. "
   ]
  },
  {
   "cell_type": "markdown",
   "metadata": {},
   "source": [
    "### Representation of the scanner geometry\n",
    "..."
   ]
  },
  {
   "cell_type": "markdown",
   "metadata": {},
   "source": [
    "### Representation of PET projection data \n",
    "..."
   ]
  },
  {
   "cell_type": "markdown",
   "metadata": {},
   "source": [
    "### Static PET reconstruction\n",
    "..."
   ]
  },
  {
   "cell_type": "markdown",
   "metadata": {},
   "source": [
    "### Sinogram binning\n",
    "..."
   ]
  },
  {
   "cell_type": "markdown",
   "metadata": {},
   "source": [
    "### Sinogram mashing and the Michelogram\n",
    "- #### Sinogram mashing: [2015_08_27_Presentation_Lab_Mashing.ipynb](2015_08_27_Presentation_Lab_Mashing.ipynb)\n",
    "- #### Gating: [2015_08_27_Presentation_Lab_Gating.ipynb](2015_08_27_Presentation_Lab_Gating.ipynb)"
   ]
  },
  {
   "cell_type": "code",
   "execution_count": null,
   "metadata": {
    "collapsed": true
   },
   "outputs": [],
   "source": []
  }
 ],
 "metadata": {
  "kernelspec": {
   "display_name": "Python 2",
   "language": "python",
   "name": "python2"
  },
  "language_info": {
   "codemirror_mode": {
    "name": "ipython",
    "version": 2
   },
   "file_extension": ".py",
   "mimetype": "text/x-python",
   "name": "python",
   "nbconvert_exporter": "python",
   "pygments_lexer": "ipython2",
   "version": "2.7.11"
  }
 },
 "nbformat": 4,
 "nbformat_minor": 2
}
